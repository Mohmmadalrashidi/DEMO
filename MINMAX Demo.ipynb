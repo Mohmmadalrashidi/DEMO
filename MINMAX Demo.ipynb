{
  "nbformat": 4,
  "nbformat_minor": 0,
  "metadata": {
    "colab": {
      "provenance": [],
      "collapsed_sections": []
    },
    "kernelspec": {
      "name": "python3",
      "display_name": "Python 3"
    },
    "language_info": {
      "name": "python"
    }
  },
  "cells": [
    {
      "cell_type": "markdown",
      "source": [
        "MINMAX Demo"
      ],
      "metadata": {
        "id": "INKXMt-lYMys"
      }
    },
    {
      "cell_type": "code",
      "source": [
        "{\n",
        "  \"nbformat\": 4,\n",
        "  \"nbformat_minor\": 0,\n",
        "  \"metadata\": {\n",
        "    \"colab\": {\n",
        "      \"provenance\": [],\n",
        "      \"authorship_tag\": \"ABX9TyNDWQ9NcejpOWjyKwgfDZxz\",\n",
        "      \"include_colab_link\": true\n",
        "    },\n",
        "    \"kernelspec\": {\n",
        "      \"name\": \"python3\",\n",
        "      \"display_name\": \"Python 3\"\n",
        "    },\n",
        "    \"language_info\": {\n",
        "      \"name\": \"python\"\n",
        "    }\n",
        "  },\n",
        "  \"cells\": [\n",
        "    {\n",
        "      \"cell_type\": \"markdown\",\n",
        "      \"metadata\": {\n",
        "        \"id\": \"view-in-github\",\n",
        "        \"colab_type\": \"text\"\n",
        "      },\n",
        "      \"source\": [\n",
        "        \"<a href=\\\"https://colab.research.google.com/github/Abdullahkhalid37/Ai/blob/main/minmaxdemo.ipynb\\\" target=\\\"_parent\\\"><img src=\\\"https://colab.research.google.com/assets/colab-badge.svg\\\" alt=\\\"Open In Colab\\\"/></a>\"\n",
        "      ]\n",
        "    },\n",
        "    {\n",
        "      \"cell_type\": \"markdown\",\n",
        "      \"source\": [\n",
        "        \"minmax\"\n",
        "      ],\n",
        "      \"metadata\": {\n",
        "        \"id\": \"PJEZ5kYZ0t7O\"\n",
        "      }\n",
        "    },\n",
        "    {\n",
        "      \"cell_type\": \"code\",\n",
        "      \"source\": [\n",
        "        \"MAX, MIN = 1000, -1000 \\n\",\n",
        "        \"def minimax(depth, nodeIndex, maximizingPlayer, \\n\",\n",
        "        \"\\t\\t\\tvalues, alpha, beta): \\n\",\n",
        "        \"\\n\",\n",
        "        \"\\tif depth == 3: \\n\",\n",
        "        \"\\t\\treturn values[nodeIndex] \\n\",\n",
        "        \"\\n\",\n",
        "        \"\\tif maximizingPlayer: \\n\",\n",
        "        \"\\t\\n\",\n",
        "        \"\\t\\tbest = MIN\\n\",\n",
        "        \"\\n\",\n",
        "        \"\\t\\tfor i in range(0, 2): \\n\",\n",
        "        \"\\t\\t\\t\\n\",\n",
        "        \"\\t\\t\\tval = minimax(depth + 1, nodeIndex * 2 + i, \\n\",\n",
        "        \"\\t\\t\\t\\t\\t\\tFalse, values, alpha, beta) \\n\",\n",
        "        \"\\t\\t\\tbest = max(best, val) \\n\",\n",
        "        \"\\t\\t\\talpha = max(alpha, best) \\n\",\n",
        "        \"\\n\",\n",
        "        \"\\t\\t\\tif beta <= alpha: \\n\",\n",
        "        \"\\t\\t\\t\\tbreak\\n\",\n",
        "        \"\\t\\t\\n\",\n",
        "        \"\\t\\treturn best \\n\",\n",
        "        \"\\t\\n\",\n",
        "        \"\\telse: \\n\",\n",
        "        \"\\t\\tbest = MAX\\n\",\n",
        "        \"\\t\\tfor i in range(0, 2): \\n\",\n",
        "        \"\\t\\t\\n\",\n",
        "        \"\\t\\t\\tval = minimax(depth + 1, nodeIndex * 2 + i, \\n\",\n",
        "        \"\\t\\t\\t\\t\\t\\t\\tTrue, values, alpha, beta) \\n\",\n",
        "        \"\\t\\t\\tbest = min(best, val) \\n\",\n",
        "        \"\\t\\t\\tbeta = min(beta, best) \\n\",\n",
        "        \"\\t\\t\\tif beta <= alpha: \\n\",\n",
        "        \"\\t\\t\\t\\tbreak\\n\",\n",
        "        \"\\t\\t\\n\",\n",
        "        \"\\t\\treturn best \\n\",\n",
        "        \"\\t\\n\",\n",
        "        \"if __name__ == \\\"__main__\\\": \\n\",\n",
        "        \"\\n\",\n",
        "        \"    values = []\\n\",\n",
        "        \"    for i in range(0, 8):\\n\",\n",
        "        \"\\n\",\n",
        "        \"        x = int(input(f\\\"Enter Value {i}  : \\\"))\\n\",\n",
        "        \"        values.append(x)\\n\",\n",
        "        \"\\n\",\n",
        "        \"    print (\\\"The optimal value is :\\\", minimax(0, 0, True, values, MIN, MAX))\"\n",
        "      ],\n",
        "      \"metadata\": {\n",
        "        \"id\": \"iawWOJ680vtw\"\n",
        "      },\n",
        "      \"execution_count\": null,\n",
        "      \"outputs\": []\n",
        "    }\n",
        "  ]\n",
        "}"
      ],
      "metadata": {
        "colab": {
          "base_uri": "https://localhost:8080/",
          "height": 235
        },
        "id": "SoQd4q9YYJnf",
        "outputId": "dcdb9188-d9dc-40e5-f410-4dfdfe894ad1"
      },
      "execution_count": 2,
      "outputs": [
        {
          "output_type": "error",
          "ename": "NameError",
          "evalue": "ignored",
          "traceback": [
            "\u001b[0;31m---------------------------------------------------------------------------\u001b[0m",
            "\u001b[0;31mNameError\u001b[0m                                 Traceback (most recent call last)",
            "\u001b[0;32m<ipython-input-2-7a32b88343b1>\u001b[0m in \u001b[0;36m<module>\u001b[0;34m\u001b[0m\n\u001b[1;32m      6\u001b[0m       \u001b[0;34m\"provenance\"\u001b[0m\u001b[0;34m:\u001b[0m \u001b[0;34m[\u001b[0m\u001b[0;34m]\u001b[0m\u001b[0;34m,\u001b[0m\u001b[0;34m\u001b[0m\u001b[0;34m\u001b[0m\u001b[0m\n\u001b[1;32m      7\u001b[0m       \u001b[0;34m\"authorship_tag\"\u001b[0m\u001b[0;34m:\u001b[0m \u001b[0;34m\"ABX9TyNDWQ9NcejpOWjyKwgfDZxz\"\u001b[0m\u001b[0;34m,\u001b[0m\u001b[0;34m\u001b[0m\u001b[0;34m\u001b[0m\u001b[0m\n\u001b[0;32m----> 8\u001b[0;31m       \u001b[0;34m\"include_colab_link\"\u001b[0m\u001b[0;34m:\u001b[0m \u001b[0mtrue\u001b[0m\u001b[0;34m\u001b[0m\u001b[0;34m\u001b[0m\u001b[0m\n\u001b[0m\u001b[1;32m      9\u001b[0m     },\n\u001b[1;32m     10\u001b[0m     \"kernelspec\": {\n",
            "\u001b[0;31mNameError\u001b[0m: name 'true' is not defined"
          ]
        }
      ]
    }
  ]
}